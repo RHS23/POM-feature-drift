{
 "cells": [
  {
   "cell_type": "markdown",
   "id": "56336520-5c69-47a6-9fc1-3eda9f807514",
   "metadata": {},
   "source": [
    "# Data Drift Dashboard\n",
    "Here we will go back to using EvidentlyAI to create a proof of concept data drift dashboard. We will use the full training data as reference and the full five validation cohorts as analysis for this example."
   ]
  },
  {
   "cell_type": "code",
   "execution_count": 2,
   "id": "bef8f3d1-6e44-44d4-a7af-9142c11c50e8",
   "metadata": {},
   "outputs": [],
   "source": [
    "import pickle\n",
    "import numpy as np\n",
    "import re\n",
    "import pandas as pd\n",
    "import datetime as dt\n",
    "import time\n",
    "import matplotlib.pyplot as plt;\n",
    "import warnings; warnings.filterwarnings('ignore')\n",
    "pd.set_option('display.max_rows', 500)\n",
    "pd.set_option('display.max_columns', 500)\n",
    "pd.set_option('display.width', 1000)\n",
    "import os\n",
    "import sys\n",
    "import gcsfs\n",
    "sys.path.append(os.path.abspath(\"/home/jupyter/POM-feature-drift\"))"
   ]
  },
  {
   "cell_type": "code",
   "execution_count": 3,
   "id": "9259d88b-443a-4eea-9a99-a91e6f782b56",
   "metadata": {},
   "outputs": [],
   "source": [
    "import nannyml as nml\n",
    "from evidently.report import Report\n",
    "from evidently.metric_preset import DataDriftPreset, TargetDriftPreset, DataQualityPreset\n",
    "from evidently import ColumnMapping"
   ]
  },
  {
   "cell_type": "code",
   "execution_count": 4,
   "id": "5e0b0bca-3686-4fae-832b-b5afd6499eec",
   "metadata": {
    "collapsed": true,
    "jupyter": {
     "outputs_hidden": true
    },
    "tags": []
   },
   "outputs": [
    {
     "ename": "ParserError",
     "evalue": "Error tokenizing data. C error: Calling read(nbytes) on source failed. Try engine='python'.",
     "output_type": "error",
     "traceback": [
      "\u001b[0;31m---------------------------------------------------------------------------\u001b[0m",
      "\u001b[0;31mParserError\u001b[0m                               Traceback (most recent call last)",
      "\u001b[0;32m/tmp/ipykernel_25619/361948374.py\u001b[0m in \u001b[0;36m<module>\u001b[0;34m\u001b[0m\n\u001b[1;32m      1\u001b[0m \u001b[0;31m# Full reference data, will need to generate different reports for different treatments as the models are trained on different data.\u001b[0m\u001b[0;34m\u001b[0m\u001b[0;34m\u001b[0m\u001b[0;34m\u001b[0m\u001b[0m\n\u001b[0;32m----> 2\u001b[0;31m \u001b[0mref\u001b[0m \u001b[0;34m=\u001b[0m \u001b[0mpd\u001b[0m\u001b[0;34m.\u001b[0m\u001b[0mread_csv\u001b[0m\u001b[0;34m(\u001b[0m\u001b[0;34m'gs://andrew-pom/Revenue/ta_step_up_v2_clean.csv'\u001b[0m\u001b[0;34m,\u001b[0m \u001b[0mlow_memory\u001b[0m \u001b[0;34m=\u001b[0m \u001b[0;32mFalse\u001b[0m\u001b[0;34m)\u001b[0m\u001b[0;34m\u001b[0m\u001b[0;34m\u001b[0m\u001b[0m\n\u001b[0m",
      "\u001b[0;32m/opt/conda/lib/python3.7/site-packages/pandas/util/_decorators.py\u001b[0m in \u001b[0;36mwrapper\u001b[0;34m(*args, **kwargs)\u001b[0m\n\u001b[1;32m    309\u001b[0m                     \u001b[0mstacklevel\u001b[0m\u001b[0;34m=\u001b[0m\u001b[0mstacklevel\u001b[0m\u001b[0;34m,\u001b[0m\u001b[0;34m\u001b[0m\u001b[0;34m\u001b[0m\u001b[0m\n\u001b[1;32m    310\u001b[0m                 )\n\u001b[0;32m--> 311\u001b[0;31m             \u001b[0;32mreturn\u001b[0m \u001b[0mfunc\u001b[0m\u001b[0;34m(\u001b[0m\u001b[0;34m*\u001b[0m\u001b[0margs\u001b[0m\u001b[0;34m,\u001b[0m \u001b[0;34m**\u001b[0m\u001b[0mkwargs\u001b[0m\u001b[0;34m)\u001b[0m\u001b[0;34m\u001b[0m\u001b[0;34m\u001b[0m\u001b[0m\n\u001b[0m\u001b[1;32m    312\u001b[0m \u001b[0;34m\u001b[0m\u001b[0m\n\u001b[1;32m    313\u001b[0m         \u001b[0;32mreturn\u001b[0m \u001b[0mwrapper\u001b[0m\u001b[0;34m\u001b[0m\u001b[0;34m\u001b[0m\u001b[0m\n",
      "\u001b[0;32m/opt/conda/lib/python3.7/site-packages/pandas/io/parsers/readers.py\u001b[0m in \u001b[0;36mread_csv\u001b[0;34m(filepath_or_buffer, sep, delimiter, header, names, index_col, usecols, squeeze, prefix, mangle_dupe_cols, dtype, engine, converters, true_values, false_values, skipinitialspace, skiprows, skipfooter, nrows, na_values, keep_default_na, na_filter, verbose, skip_blank_lines, parse_dates, infer_datetime_format, keep_date_col, date_parser, dayfirst, cache_dates, iterator, chunksize, compression, thousands, decimal, lineterminator, quotechar, quoting, doublequote, escapechar, comment, encoding, encoding_errors, dialect, error_bad_lines, warn_bad_lines, on_bad_lines, delim_whitespace, low_memory, memory_map, float_precision, storage_options)\u001b[0m\n\u001b[1;32m    584\u001b[0m     \u001b[0mkwds\u001b[0m\u001b[0;34m.\u001b[0m\u001b[0mupdate\u001b[0m\u001b[0;34m(\u001b[0m\u001b[0mkwds_defaults\u001b[0m\u001b[0;34m)\u001b[0m\u001b[0;34m\u001b[0m\u001b[0;34m\u001b[0m\u001b[0m\n\u001b[1;32m    585\u001b[0m \u001b[0;34m\u001b[0m\u001b[0m\n\u001b[0;32m--> 586\u001b[0;31m     \u001b[0;32mreturn\u001b[0m \u001b[0m_read\u001b[0m\u001b[0;34m(\u001b[0m\u001b[0mfilepath_or_buffer\u001b[0m\u001b[0;34m,\u001b[0m \u001b[0mkwds\u001b[0m\u001b[0;34m)\u001b[0m\u001b[0;34m\u001b[0m\u001b[0;34m\u001b[0m\u001b[0m\n\u001b[0m\u001b[1;32m    587\u001b[0m \u001b[0;34m\u001b[0m\u001b[0m\n\u001b[1;32m    588\u001b[0m \u001b[0;34m\u001b[0m\u001b[0m\n",
      "\u001b[0;32m/opt/conda/lib/python3.7/site-packages/pandas/io/parsers/readers.py\u001b[0m in \u001b[0;36m_read\u001b[0;34m(filepath_or_buffer, kwds)\u001b[0m\n\u001b[1;32m    486\u001b[0m \u001b[0;34m\u001b[0m\u001b[0m\n\u001b[1;32m    487\u001b[0m     \u001b[0;32mwith\u001b[0m \u001b[0mparser\u001b[0m\u001b[0;34m:\u001b[0m\u001b[0;34m\u001b[0m\u001b[0;34m\u001b[0m\u001b[0m\n\u001b[0;32m--> 488\u001b[0;31m         \u001b[0;32mreturn\u001b[0m \u001b[0mparser\u001b[0m\u001b[0;34m.\u001b[0m\u001b[0mread\u001b[0m\u001b[0;34m(\u001b[0m\u001b[0mnrows\u001b[0m\u001b[0;34m)\u001b[0m\u001b[0;34m\u001b[0m\u001b[0;34m\u001b[0m\u001b[0m\n\u001b[0m\u001b[1;32m    489\u001b[0m \u001b[0;34m\u001b[0m\u001b[0m\n\u001b[1;32m    490\u001b[0m \u001b[0;34m\u001b[0m\u001b[0m\n",
      "\u001b[0;32m/opt/conda/lib/python3.7/site-packages/pandas/io/parsers/readers.py\u001b[0m in \u001b[0;36mread\u001b[0;34m(self, nrows)\u001b[0m\n\u001b[1;32m   1045\u001b[0m     \u001b[0;32mdef\u001b[0m \u001b[0mread\u001b[0m\u001b[0;34m(\u001b[0m\u001b[0mself\u001b[0m\u001b[0;34m,\u001b[0m \u001b[0mnrows\u001b[0m\u001b[0;34m=\u001b[0m\u001b[0;32mNone\u001b[0m\u001b[0;34m)\u001b[0m\u001b[0;34m:\u001b[0m\u001b[0;34m\u001b[0m\u001b[0;34m\u001b[0m\u001b[0m\n\u001b[1;32m   1046\u001b[0m         \u001b[0mnrows\u001b[0m \u001b[0;34m=\u001b[0m \u001b[0mvalidate_integer\u001b[0m\u001b[0;34m(\u001b[0m\u001b[0;34m\"nrows\"\u001b[0m\u001b[0;34m,\u001b[0m \u001b[0mnrows\u001b[0m\u001b[0;34m)\u001b[0m\u001b[0;34m\u001b[0m\u001b[0;34m\u001b[0m\u001b[0m\n\u001b[0;32m-> 1047\u001b[0;31m         \u001b[0mindex\u001b[0m\u001b[0;34m,\u001b[0m \u001b[0mcolumns\u001b[0m\u001b[0;34m,\u001b[0m \u001b[0mcol_dict\u001b[0m \u001b[0;34m=\u001b[0m \u001b[0mself\u001b[0m\u001b[0;34m.\u001b[0m\u001b[0m_engine\u001b[0m\u001b[0;34m.\u001b[0m\u001b[0mread\u001b[0m\u001b[0;34m(\u001b[0m\u001b[0mnrows\u001b[0m\u001b[0;34m)\u001b[0m\u001b[0;34m\u001b[0m\u001b[0;34m\u001b[0m\u001b[0m\n\u001b[0m\u001b[1;32m   1048\u001b[0m \u001b[0;34m\u001b[0m\u001b[0m\n\u001b[1;32m   1049\u001b[0m         \u001b[0;32mif\u001b[0m \u001b[0mindex\u001b[0m \u001b[0;32mis\u001b[0m \u001b[0;32mNone\u001b[0m\u001b[0;34m:\u001b[0m\u001b[0;34m\u001b[0m\u001b[0;34m\u001b[0m\u001b[0m\n",
      "\u001b[0;32m/opt/conda/lib/python3.7/site-packages/pandas/io/parsers/c_parser_wrapper.py\u001b[0m in \u001b[0;36mread\u001b[0;34m(self, nrows)\u001b[0m\n\u001b[1;32m    227\u001b[0m \u001b[0;34m\u001b[0m\u001b[0m\n\u001b[1;32m    228\u001b[0m             \u001b[0;32melse\u001b[0m\u001b[0;34m:\u001b[0m\u001b[0;34m\u001b[0m\u001b[0;34m\u001b[0m\u001b[0m\n\u001b[0;32m--> 229\u001b[0;31m                 \u001b[0mdata\u001b[0m \u001b[0;34m=\u001b[0m \u001b[0mself\u001b[0m\u001b[0;34m.\u001b[0m\u001b[0m_reader\u001b[0m\u001b[0;34m.\u001b[0m\u001b[0mread\u001b[0m\u001b[0;34m(\u001b[0m\u001b[0mnrows\u001b[0m\u001b[0;34m)\u001b[0m\u001b[0;34m\u001b[0m\u001b[0;34m\u001b[0m\u001b[0m\n\u001b[0m\u001b[1;32m    230\u001b[0m         \u001b[0;32mexcept\u001b[0m \u001b[0mStopIteration\u001b[0m\u001b[0;34m:\u001b[0m\u001b[0;34m\u001b[0m\u001b[0;34m\u001b[0m\u001b[0m\n\u001b[1;32m    231\u001b[0m             \u001b[0;32mif\u001b[0m \u001b[0mself\u001b[0m\u001b[0;34m.\u001b[0m\u001b[0m_first_chunk\u001b[0m\u001b[0;34m:\u001b[0m\u001b[0;34m\u001b[0m\u001b[0;34m\u001b[0m\u001b[0m\n",
      "\u001b[0;32m/opt/conda/lib/python3.7/site-packages/pandas/_libs/parsers.pyx\u001b[0m in \u001b[0;36mpandas._libs.parsers.TextReader.read\u001b[0;34m()\u001b[0m\n",
      "\u001b[0;32m/opt/conda/lib/python3.7/site-packages/pandas/_libs/parsers.pyx\u001b[0m in \u001b[0;36mpandas._libs.parsers.TextReader._read_rows\u001b[0;34m()\u001b[0m\n",
      "\u001b[0;32m/opt/conda/lib/python3.7/site-packages/pandas/_libs/parsers.pyx\u001b[0m in \u001b[0;36mpandas._libs.parsers.raise_parser_error\u001b[0;34m()\u001b[0m\n",
      "\u001b[0;31mParserError\u001b[0m: Error tokenizing data. C error: Calling read(nbytes) on source failed. Try engine='python'."
     ]
    }
   ],
   "source": [
    "# Full reference data, will need to generate different reports for different treatments as the models are trained on different data.\n",
    "ref = pd.read_csv('gs://andrew-pom/Revenue/ta_step_up_v2_clean.csv', low_memory = False)"
   ]
  },
  {
   "cell_type": "code",
   "execution_count": 15,
   "id": "d13797d2-5256-483c-92f5-3134e20e6833",
   "metadata": {},
   "outputs": [
    {
     "data": {
      "text/plain": [
       "NT    455582\n",
       "L      71951\n",
       "M      71487\n",
       "H      71466\n",
       "Name: treatment_type, dtype: int64"
      ]
     },
     "execution_count": 15,
     "metadata": {},
     "output_type": "execute_result"
    }
   ],
   "source": [
    "ref.treatment_type.value_counts()"
   ]
  },
  {
   "cell_type": "markdown",
   "id": "8ddf62bc-d491-4064-b61e-c5f1b3576ef9",
   "metadata": {},
   "source": [
    "## LOW TA\n",
    "Just doing the one treatment as a test, will look more into how to run it for the different treatments "
   ]
  },
  {
   "cell_type": "markdown",
   "id": "bcbc9f24-3253-4217-ae84-679ae304d9f8",
   "metadata": {},
   "source": [
    "### Using built in EvidentlyAI dashboards"
   ]
  },
  {
   "cell_type": "code",
   "execution_count": null,
   "id": "a3ec4b91-e33a-42fc-abc4-eb372a48b141",
   "metadata": {},
   "outputs": [],
   "source": [
    "analysis = pd.read_csv('data/ta_low_reference_full.csv', low_memory = False)"
   ]
  },
  {
   "cell_type": "code",
   "execution_count": null,
   "id": "c6c06fe2-88dc-4c60-aedd-ff3e6dc7b673",
   "metadata": {},
   "outputs": [],
   "source": [
    "analysis.timestamp = pd.to_datetime(analysis.timestamp)\n",
    "analysis.sort_values(by = 'timestamp', inplace = True)"
   ]
  },
  {
   "cell_type": "code",
   "execution_count": 5,
   "id": "e84c6c69-4c10-4f88-bbfc-001a56302044",
   "metadata": {},
   "outputs": [],
   "source": [
    "with open('pickle_files/DTV_UK_ta_L.pkl', 'rb') as pkl_file:\n",
    "    model = pickle.load(pkl_file)\n",
    "features = model.feature_name_"
   ]
  },
  {
   "cell_type": "code",
   "execution_count": 34,
   "id": "5378c0b4-c400-46de-9bda-73e57a14adfa",
   "metadata": {},
   "outputs": [],
   "source": [
    "low_ref = ref[ref.treatment_type == 'L']\n",
    "dates = []\n",
    "for index in low_ref.ind:\n",
    "    dates.append(index.split('-')[0])\n",
    "\n",
    "timestamps = []\n",
    "for i, date in enumerate(dates):\n",
    "    timestamps.append(pd.to_datetime(str(dates[i]) + '-0', format = '%Y%W-%w'))\n",
    "low_ref['timestamp'] = timestamps\n",
    "low_ref = low_ref[features + ['timestamp']]\n"
   ]
  },
  {
   "cell_type": "code",
   "execution_count": 45,
   "id": "19d3faf1-ab7f-4696-9c1e-ab882ba0e97d",
   "metadata": {},
   "outputs": [],
   "source": [
    "low_ref.sort_values(by = 'timestamp', inplace = True)"
   ]
  },
  {
   "cell_type": "code",
   "execution_count": 37,
   "id": "de7ad9fd-59c5-45b8-be35-f73a05203e27",
   "metadata": {},
   "outputs": [],
   "source": [
    "# column_mapping = ColumnMapping()\n",
    "# column_mapping.datetime = 'timestamp'"
   ]
  },
  {
   "cell_type": "code",
   "execution_count": 49,
   "id": "1976788c-a912-41ef-aa14-0e5d74928be9",
   "metadata": {},
   "outputs": [
    {
     "ename": "SyntaxError",
     "evalue": "invalid syntax (4179803666.py, line 1)",
     "output_type": "error",
     "traceback": [
      "\u001b[0;36m  File \u001b[0;32m\"/tmp/ipykernel_8785/4179803666.py\"\u001b[0;36m, line \u001b[0;32m1\u001b[0m\n\u001b[0;31m    drift_report = Report(metrics=[DataDriftPreset(options = )])\u001b[0m\n\u001b[0m                                                             ^\u001b[0m\n\u001b[0;31mSyntaxError\u001b[0m\u001b[0;31m:\u001b[0m invalid syntax\n"
     ]
    }
   ],
   "source": [
    "drift_report = Report(metrics=[DataDriftPreset()])"
   ]
  },
  {
   "cell_type": "code",
   "execution_count": 64,
   "id": "d34150ea-3eba-4a3f-beec-bfd6bca941f7",
   "metadata": {},
   "outputs": [],
   "source": [
    "drift_report.run(reference_data = low_ref, current_data = analysis[features])"
   ]
  },
  {
   "cell_type": "code",
   "execution_count": 48,
   "id": "63f5f964-0ba8-47cd-9b66-7611469f83b4",
   "metadata": {},
   "outputs": [],
   "source": [
    "drift_report.save_html('drift_reports/ta_low.html')"
   ]
  },
  {
   "cell_type": "code",
   "execution_count": 51,
   "id": "d2f7dde2-0d54-4135-b549-e4351ed656f5",
   "metadata": {},
   "outputs": [],
   "source": [
    "drift_report.save_json('drift_reports/ta_low.json')"
   ]
  },
  {
   "cell_type": "markdown",
   "id": "0b072002-989f-4ebb-9c6f-862990a86144",
   "metadata": {},
   "source": [
    "### Using JSON to create custom plots\n",
    "The idea of this test is to think about what we would want displayed on a Tableau dashboard. Could either get the required information out of the JSON file and into a BigQuery table for use in Tableau, or see if we can implement into Tableau directly from the JSON."
   ]
  },
  {
   "cell_type": "code",
   "execution_count": 59,
   "id": "97aa5b5a-755a-48b2-9e19-4b364f7e4962",
   "metadata": {},
   "outputs": [],
   "source": [
    "sorted_features = features.copy()"
   ]
  },
  {
   "cell_type": "code",
   "execution_count": 60,
   "id": "b289b0c6-0e1e-4b6e-87ee-82fe976e0871",
   "metadata": {},
   "outputs": [],
   "source": [
    "sorted_features.sort()"
   ]
  },
  {
   "cell_type": "code",
   "execution_count": 65,
   "id": "3cf34f0f-bded-46bf-8a06-155443e9c34c",
   "metadata": {},
   "outputs": [],
   "source": [
    "validation_cohorts = ['202045-202052', '202053-202107', '202108-202111', '202116-202119', '292124-202127']\n",
    "\n",
    "for cohort in validation_cohorts:\n",
    "    gcs_path = f'gs://andrew-pom/Revenue/ta_step_up_low_v2_{cohort}_oot.csv'\n",
    "    cohort_df = pd.read_csv(gcs_path, low_memory = False)\n",
    "\n",
    "    dates = []\n",
    "    for index in cohort_df.ind:\n",
    "        dates.append(index.split('-')[0])\n",
    "\n",
    "    timestamps = []\n",
    "    for i, date in enumerate(dates):\n",
    "        timestamps.append(pd.to_datetime(str(dates[i]) + '-0', format = '%Y%W-%w'))\n",
    "    cohort_df['timestamp'] = timestamps\n",
    "\n",
    "    cohort_df.drop(columns = ['ind', 'xgb_preds', 'xgb_proba', 'logr_preds', 'logr_proba'], inplace = True)\n",
    "    cohort_df.rename(columns = {'lgbm_preds': 'pred_ta', 'lgbm_proba': 'pred_proba_ta'}, inplace = True)\n",
    "    cohort_df.sort_values(by = 'timestamp', inplace = True)\n",
    "    \n",
    "    drift_report.run(reference_data = low_ref, current_data = cohort_df[features])\n",
    "    drift_report.save_json(f'drift_reports/ta_low_{cohort}.json')"
   ]
  },
  {
   "cell_type": "code",
   "execution_count": 12,
   "id": "230eb889-3d0b-4da4-9e4f-4aec9e3b83a3",
   "metadata": {},
   "outputs": [],
   "source": [
    "import json"
   ]
  },
  {
   "cell_type": "code",
   "execution_count": 42,
   "id": "5b785153-238e-4d2d-98a1-251af28b83e8",
   "metadata": {},
   "outputs": [],
   "source": [
    "drift_df = pd.DataFrame()"
   ]
  },
  {
   "cell_type": "code",
   "execution_count": 43,
   "id": "7476d9fd-1b46-402e-995b-e6d9b17e96fa",
   "metadata": {
    "tags": []
   },
   "outputs": [],
   "source": [
    "# Creates DataFrame that can be used for our analysis over time tables.\n",
    "validation_cohorts = ['202045-202052', '202053-202107', '202108-202111', '202116-202119', '292124-202127']\n",
    "for cohort in validation_cohorts:\n",
    "    df = pd.DataFrame(data = {'Feature': features, 'Stattest': None, 'Drift_Score': None, 'Cohort': None})\n",
    "    for i, feature in enumerate(features):\n",
    "        with open(f'drift_reports/ta_low_{cohort}.json', 'r') as file:\n",
    "            report = json.load(file)\n",
    "        \n",
    "        #df.Feature = features\n",
    "        df.iloc[i, 1] = report['metrics'][1]['result']['drift_by_columns'][feature]['stattest_name']\n",
    "        df.iloc[i, 2] = report['metrics'][1]['result']['drift_by_columns'][feature]['drift_score']\n",
    "        df.iloc[i, 3] = cohort\n",
    "        \n",
    "    drift_df = pd.concat([drift_df, df])\n",
    "drift_df.reset_index(inplace = True, drop = True)"
   ]
  },
  {
   "cell_type": "code",
   "execution_count": null,
   "id": "c34c18e0-da04-4e8c-81b2-f30331dbbfce",
   "metadata": {},
   "outputs": [],
   "source": []
  },
  {
   "cell_type": "code",
   "execution_count": 27,
   "id": "ef9ab255-cf9b-4cfc-ad84-83c56135e853",
   "metadata": {},
   "outputs": [
    {
     "ename": "NameError",
     "evalue": "name 'arpu_drift' is not defined",
     "output_type": "error",
     "traceback": [
      "\u001b[0;31m---------------------------------------------------------------------------\u001b[0m",
      "\u001b[0;31mNameError\u001b[0m                                 Traceback (most recent call last)",
      "\u001b[0;32m/tmp/ipykernel_25619/190562031.py\u001b[0m in \u001b[0;36m<module>\u001b[0;34m\u001b[0m\n\u001b[1;32m      3\u001b[0m \u001b[0mplt\u001b[0m\u001b[0;34m.\u001b[0m\u001b[0mxlabel\u001b[0m\u001b[0;34m(\u001b[0m\u001b[0;34m'Cohort'\u001b[0m\u001b[0;34m)\u001b[0m\u001b[0;34m\u001b[0m\u001b[0;34m\u001b[0m\u001b[0m\n\u001b[1;32m      4\u001b[0m \u001b[0mplt\u001b[0m\u001b[0;34m.\u001b[0m\u001b[0mtitle\u001b[0m\u001b[0;34m(\u001b[0m\u001b[0;34m'Arpu Drift Over Validation Cohorts'\u001b[0m\u001b[0;34m)\u001b[0m\u001b[0;34m\u001b[0m\u001b[0;34m\u001b[0m\u001b[0m\n\u001b[0;32m----> 5\u001b[0;31m \u001b[0mplt\u001b[0m\u001b[0;34m.\u001b[0m\u001b[0mplot\u001b[0m\u001b[0;34m(\u001b[0m\u001b[0mvalidation_cohorts\u001b[0m\u001b[0;34m,\u001b[0m \u001b[0marpu_drift\u001b[0m\u001b[0;34m)\u001b[0m\u001b[0;34m\u001b[0m\u001b[0;34m\u001b[0m\u001b[0m\n\u001b[0m",
      "\u001b[0;31mNameError\u001b[0m: name 'arpu_drift' is not defined"
     ]
    },
    {
     "data": {
      "image/png": "[encoded data removed]",
      "text/plain": [
       "<Figure size 640x480 with 1 Axes>"
      ]
     },
     "metadata": {},
     "output_type": "display_data"
    }
   ],
   "source": [
    "plt.xticks(rotation = '90')\n",
    "plt.ylabel('Drift Score')\n",
    "plt.xlabel('Cohort')\n",
    "plt.title('Arpu Drift Over Validation Cohorts')\n",
    "plt.plot(validation_cohorts, arpu_drift)"
   ]
  },
  {
   "cell_type": "code",
   "execution_count": null,
   "id": "ca5823fb-5e4e-4541-902a-fce86f56891f",
   "metadata": {},
   "outputs": [],
   "source": []
  }
 ],
 "metadata": {
  "kernelspec": {
   "display_name": "Python 3 (ipykernel) (Local)",
   "language": "python",
   "name": "local-python3"
  },
  "language_info": {
   "codemirror_mode": {
    "name": "ipython",
    "version": 3
   },
   "file_extension": ".py",
   "mimetype": "text/x-python",
   "name": "python",
   "nbconvert_exporter": "python",
   "pygments_lexer": "ipython3",
   "version": "3.7.12"
  }
 },
 "nbformat": 4,
 "nbformat_minor": 5
}
