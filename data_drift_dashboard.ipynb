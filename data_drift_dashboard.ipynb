{
 "cells": [
  {
   "cell_type": "markdown",
   "id": "56336520-5c69-47a6-9fc1-3eda9f807514",
   "metadata": {},
   "source": [
    "# Data Drift Dashboard\n",
    "Here we will go back to using EvidentlyAI to create a proof of concept data drift dashboard. We will use the full training data as reference and the full five validation cohorts as analysis for this example."
   ]
  },
  {
   "cell_type": "code",
   "execution_count": 1,
   "id": "bef8f3d1-6e44-44d4-a7af-9142c11c50e8",
   "metadata": {},
   "outputs": [],
   "source": [
    "import pickle\n",
    "import numpy as np\n",
    "import re\n",
    "import pandas as pd\n",
    "import datetime as dt\n",
    "import time\n",
    "import matplotlib.pyplot as plt;\n",
    "import warnings; warnings.filterwarnings('ignore')\n",
    "pd.set_option('display.max_rows', 500)\n",
    "pd.set_option('display.max_columns', 500)\n",
    "pd.set_option('display.width', 1000)\n",
    "import os\n",
    "import sys\n",
    "import gcsfs\n",
    "sys.path.append(os.path.abspath(\"/home/jupyter/POM-feature-drift\"))"
   ]
  },
  {
   "cell_type": "code",
   "execution_count": 36,
   "id": "9259d88b-443a-4eea-9a99-a91e6f782b56",
   "metadata": {},
   "outputs": [],
   "source": [
    "import nannyml as nml\n",
    "from evidently.report import Report\n",
    "from evidently.metric_preset import DataDriftPreset, TargetDriftPreset, DataQualityPreset\n",
    "from evidently import ColumnMapping"
   ]
  },
  {
   "cell_type": "code",
   "execution_count": 5,
   "id": "5e0b0bca-3686-4fae-832b-b5afd6499eec",
   "metadata": {},
   "outputs": [],
   "source": [
    "# Full reference data, will need to generate different reports for different treatments as the models are trained on different data.\n",
    "ref = pd.read_csv('gs://andrew-pom/Revenue/ta_step_up_v2_clean.csv', low_memory = False)"
   ]
  },
  {
   "cell_type": "code",
   "execution_count": 15,
   "id": "d13797d2-5256-483c-92f5-3134e20e6833",
   "metadata": {},
   "outputs": [
    {
     "data": {
      "text/plain": [
       "NT    455582\n",
       "L      71951\n",
       "M      71487\n",
       "H      71466\n",
       "Name: treatment_type, dtype: int64"
      ]
     },
     "execution_count": 15,
     "metadata": {},
     "output_type": "execute_result"
    }
   ],
   "source": [
    "ref.treatment_type.value_counts()"
   ]
  },
  {
   "cell_type": "markdown",
   "id": "8ddf62bc-d491-4064-b61e-c5f1b3576ef9",
   "metadata": {},
   "source": [
    "## LOW TA\n",
    "Just doing the one treatment as a test, will look more into how to run it for the different treatments "
   ]
  },
  {
   "cell_type": "code",
   "execution_count": 17,
   "id": "a3ec4b91-e33a-42fc-abc4-eb372a48b141",
   "metadata": {},
   "outputs": [],
   "source": [
    "analysis = pd.read_csv('data/ta_low_reference_full.csv', low_memory = False)"
   ]
  },
  {
   "cell_type": "code",
   "execution_count": 44,
   "id": "c6c06fe2-88dc-4c60-aedd-ff3e6dc7b673",
   "metadata": {},
   "outputs": [],
   "source": [
    "analysis.timestamp = pd.to_datetime(analysis.timestamp)\n",
    "analysis.sort_values(by = 'timestamp', inplace = True)"
   ]
  },
  {
   "cell_type": "code",
   "execution_count": 19,
   "id": "e84c6c69-4c10-4f88-bbfc-001a56302044",
   "metadata": {},
   "outputs": [],
   "source": [
    "with open('pickle_files/DTV_UK_ta_L.pkl', 'rb') as pkl_file:\n",
    "    model = pickle.load(pkl_file)\n",
    "features = model.feature_name_"
   ]
  },
  {
   "cell_type": "code",
   "execution_count": 34,
   "id": "5378c0b4-c400-46de-9bda-73e57a14adfa",
   "metadata": {},
   "outputs": [],
   "source": [
    "low_ref = ref[ref.treatment_type == 'L']\n",
    "dates = []\n",
    "for index in low_ref.ind:\n",
    "    dates.append(index.split('-')[0])\n",
    "\n",
    "timestamps = []\n",
    "for i, date in enumerate(dates):\n",
    "    timestamps.append(pd.to_datetime(str(dates[i]) + '-0', format = '%Y%W-%w'))\n",
    "low_ref['timestamp'] = timestamps\n",
    "low_ref = low_ref[features + ['timestamp']]\n"
   ]
  },
  {
   "cell_type": "code",
   "execution_count": 45,
   "id": "19d3faf1-ab7f-4696-9c1e-ab882ba0e97d",
   "metadata": {},
   "outputs": [],
   "source": [
    "low_ref.sort_values(by = 'timestamp', inplace = True)"
   ]
  },
  {
   "cell_type": "code",
   "execution_count": 37,
   "id": "de7ad9fd-59c5-45b8-be35-f73a05203e27",
   "metadata": {},
   "outputs": [],
   "source": [
    "# column_mapping = ColumnMapping()\n",
    "# column_mapping.datetime = 'timestamp'"
   ]
  },
  {
   "cell_type": "code",
   "execution_count": 49,
   "id": "1976788c-a912-41ef-aa14-0e5d74928be9",
   "metadata": {},
   "outputs": [
    {
     "ename": "SyntaxError",
     "evalue": "invalid syntax (4179803666.py, line 1)",
     "output_type": "error",
     "traceback": [
      "\u001b[0;36m  File \u001b[0;32m\"/tmp/ipykernel_8785/4179803666.py\"\u001b[0;36m, line \u001b[0;32m1\u001b[0m\n\u001b[0;31m    drift_report = Report(metrics=[DataDriftPreset(options = )])\u001b[0m\n\u001b[0m                                                             ^\u001b[0m\n\u001b[0;31mSyntaxError\u001b[0m\u001b[0;31m:\u001b[0m invalid syntax\n"
     ]
    }
   ],
   "source": [
    "drift_report = Report(metrics=[DataDriftPreset()])"
   ]
  },
  {
   "cell_type": "code",
   "execution_count": 47,
   "id": "d34150ea-3eba-4a3f-beec-bfd6bca941f7",
   "metadata": {},
   "outputs": [],
   "source": [
    "drift_report.run(reference_data = low_ref, current_data = analysis[features])"
   ]
  },
  {
   "cell_type": "code",
   "execution_count": 48,
   "id": "63f5f964-0ba8-47cd-9b66-7611469f83b4",
   "metadata": {},
   "outputs": [],
   "source": [
    "drift_report.save_html('drift_reports/ta_low.html')"
   ]
  },
  {
   "cell_type": "code",
   "execution_count": 51,
   "id": "d2f7dde2-0d54-4135-b549-e4351ed656f5",
   "metadata": {},
   "outputs": [],
   "source": [
    "drift_report.save_json('drift_reports/ta_low.json')"
   ]
  },
  {
   "cell_type": "code",
   "execution_count": null,
   "id": "72e88b63-e55b-4bbd-b1ab-59fd69b5b8cb",
   "metadata": {},
   "outputs": [],
   "source": []
  }
 ],
 "metadata": {
  "kernelspec": {
   "display_name": "Python 3 (ipykernel) (Local)",
   "language": "python",
   "name": "local-python3"
  },
  "language_info": {
   "codemirror_mode": {
    "name": "ipython",
    "version": 3
   },
   "file_extension": ".py",
   "mimetype": "text/x-python",
   "name": "python",
   "nbconvert_exporter": "python",
   "pygments_lexer": "ipython3",
   "version": "3.7.12"
  }
 },
 "nbformat": 4,
 "nbformat_minor": 5
}
